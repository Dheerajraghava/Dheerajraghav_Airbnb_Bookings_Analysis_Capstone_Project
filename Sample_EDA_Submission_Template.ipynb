{
  "nbformat": 4,
  "nbformat_minor": 0,
  "metadata": {
    "colab": {
      "private_outputs": true,
      "provenance": [],
      "collapsed_sections": [
        "vncDsAP0Gaoa",
        "FJNUwmbgGyua",
        "w6K7xa23Elo4",
        "yQaldy8SH6Dl",
        "PH-0ReGfmX4f",
        "mDgbUHAGgjLW",
        "O_i_v8NEhb9l",
        "HhfV-JJviCcP",
        "Y3lxredqlCYt",
        "3RnN4peoiCZX",
        "x71ZqKXriCWQ",
        "7hBIi_osiCS2",
        "JlHwYmJAmNHm",
        "35m5QtbWiB9F",
        "PoPl-ycgm1ru",
        "H0kj-8xxnORC",
        "nA9Y7ga8ng1Z",
        "PBTbrJXOngz2",
        "u3PMJOP6ngxN",
        "dauF4eBmngu3",
        "bKJF3rekwFvQ",
        "MSa1f5Uengrz",
        "GF8Ens_Soomf",
        "0wOQAZs5pc--",
        "K5QZ13OEpz2H",
        "lQ7QKXXCp7Bj",
        "448CDAPjqfQr",
        "KSlN3yHqYklG",
        "t6dVpIINYklI",
        "ijmpgYnKYklI",
        "-JiQyfWJYklI",
        "EM7whBJCYoAo",
        "fge-S5ZAYoAp",
        "85gYPyotYoAp",
        "RoGjAbkUYoAp",
        "4Of9eVA-YrdM",
        "iky9q4vBYrdO",
        "F6T5p64dYrdO",
        "y-Ehk30pYrdP",
        "bamQiAODYuh1",
        "QHF8YVU7Yuh3",
        "GwzvFGzlYuh3",
        "qYpmQ266Yuh3",
        "OH-pJp9IphqM",
        "bbFf2-_FphqN",
        "_ouA3fa0phqN",
        "Seke61FWphqN",
        "PIIx-8_IphqN",
        "t27r6nlMphqO",
        "r2jJGEOYphqO",
        "b0JNsNcRphqO",
        "BZR9WyysphqO",
        "jj7wYXLtphqO",
        "eZrbJ2SmphqO",
        "rFu4xreNphqO",
        "YJ55k-q6phqO",
        "gCFgpxoyphqP",
        "OVtJsKN_phqQ",
        "lssrdh5qphqQ",
        "U2RJ9gkRphqQ",
        "1M8mcRywphqQ",
        "tgIPom80phqQ",
        "JMzcOPDDphqR",
        "x-EpHcCOp1ci",
        "X_VqEhTip1ck",
        "8zGJKyg5p1ck",
        "PVzmfK_Ep1ck",
        "n3dbpmDWp1ck",
        "ylSl6qgtp1ck",
        "ZWILFDl5p1ck",
        "M7G43BXep1ck",
        "Ag9LCva-p1cl",
        "E6MkPsBcp1cl",
        "2cELzS2fp1cl",
        "3MPXvC8up1cl",
        "NC_X3p0fY2L0",
        "UV0SzAkaZNRQ",
        "YPEH6qLeZNRQ",
        "q29F0dvdveiT",
        "EXh0U9oCveiU",
        "22aHeOlLveiV",
        "JcMwzZxoAimU",
        "8G2x9gOozGDZ",
        "gCX9965dhzqZ",
        "gIfDvo9L0UH2"
      ],
      "include_colab_link": true
    },
    "kernelspec": {
      "name": "python3",
      "display_name": "Python 3"
    },
    "language_info": {
      "name": "python"
    }
  },
  "cells": [
    {
      "cell_type": "markdown",
      "metadata": {
        "id": "view-in-github",
        "colab_type": "text"
      },
      "source": [
        "<a href=\"https://colab.research.google.com/github/Dheerajraghava/Dheerajraghav_Airbnb_Bookings_Analysis_Capstone_Project/blob/main/Sample_EDA_Submission_Template.ipynb\" target=\"_parent\"><img src=\"https://colab.research.google.com/assets/colab-badge.svg\" alt=\"Open In Colab\"/></a>"
      ]
    },
    {
      "cell_type": "markdown",
      "source": [
        "# **Project Name**    -\n",
        "\n"
      ],
      "metadata": {
        "id": "vncDsAP0Gaoa"
      }
    },
    {
      "cell_type": "markdown",
      "source": [
        "##### **Project Type**    - EDA/Regression/Classification/Unsupervised\n",
        "##### **Contribution**    - Individual/Team\n",
        "##### **Team Member 1 -**\n",
        "##### **Team Member 2 -**\n",
        "##### **Team Member 3 -**\n",
        "##### **Team Member 4 -**"
      ],
      "metadata": {
        "id": "beRrZCGUAJYm"
      }
    },
    {
      "cell_type": "markdown",
      "source": [
        "# **Project Summary -**"
      ],
      "metadata": {
        "id": "FJNUwmbgGyua"
      }
    },
    {
      "cell_type": "markdown",
      "source": [
        "Write the summary here within 500-600 words."
      ],
      "metadata": {
        "id": "F6v_1wHtG2nS"
      }
    },
    {
      "cell_type": "markdown",
      "source": [
        "# **GitHub Link -**"
      ],
      "metadata": {
        "id": "w6K7xa23Elo4"
      }
    },
    {
      "cell_type": "markdown",
      "source": [
        "Provide your GitHub Link here."
      ],
      "metadata": {
        "id": "h1o69JH3Eqqn"
      }
    },
    {
      "cell_type": "markdown",
      "source": [
        "# **Problem Statement**\n"
      ],
      "metadata": {
        "id": "yQaldy8SH6Dl"
      }
    },
    {
      "cell_type": "markdown",
      "source": [
        "**Write Problem Statement Here.**"
      ],
      "metadata": {
        "id": "DpeJGUA3kjGy"
      }
    },
    {
      "cell_type": "markdown",
      "source": [
        "#### **Define Your Business Objective?**"
      ],
      "metadata": {
        "id": "PH-0ReGfmX4f"
      }
    },
    {
      "cell_type": "markdown",
      "source": [
        "Answer Here."
      ],
      "metadata": {
        "id": "PhDvGCAqmjP1"
      }
    },
    {
      "cell_type": "markdown",
      "source": [
        "# **General Guidelines** : -  "
      ],
      "metadata": {
        "id": "mDgbUHAGgjLW"
      }
    },
    {
      "cell_type": "markdown",
      "source": [
        "1.   Well-structured, formatted, and commented code is required.\n",
        "2.   Exception Handling, Production Grade Code & Deployment Ready Code will be a plus. Those students will be awarded some additional credits.\n",
        "     \n",
        "     The additional credits will have advantages over other students during Star Student selection.\n",
        "       \n",
        "             [ Note: - Deployment Ready Code is defined as, the whole .ipynb notebook should be executable in one go\n",
        "                       without a single error logged. ]\n",
        "\n",
        "3.   Each and every logic should have proper comments.\n",
        "4. You may add as many number of charts you want. Make Sure for each and every chart the following format should be answered.\n",
        "        \n",
        "\n",
        "```\n",
        "# Chart visualization code\n",
        "```\n",
        "            \n",
        "\n",
        "*   Why did you pick the specific chart?\n",
        "*   What is/are the insight(s) found from the chart?\n",
        "* Will the gained insights help creating a positive business impact?\n",
        "Are there any insights that lead to negative growth? Justify with specific reason.\n",
        "\n",
        "5. You have to create at least 20 logical & meaningful charts having important insights.\n",
        "\n",
        "\n",
        "[ Hints : - Do the Vizualization in  a structured way while following \"UBM\" Rule.\n",
        "\n",
        "U - Univariate Analysis,\n",
        "\n",
        "B - Bivariate Analysis (Numerical - Categorical, Numerical - Numerical, Categorical - Categorical)\n",
        "\n",
        "M - Multivariate Analysis\n",
        " ]\n",
        "\n",
        "\n",
        "\n"
      ],
      "metadata": {
        "id": "ZrxVaUj-hHfC"
      }
    },
    {
      "cell_type": "markdown",
      "source": [
        "# ***Let's Begin !***"
      ],
      "metadata": {
        "id": "O_i_v8NEhb9l"
      }
    },
    {
      "cell_type": "markdown",
      "source": [
        "## ***1. Know Your Data***"
      ],
      "metadata": {
        "id": "HhfV-JJviCcP"
      }
    },
    {
      "cell_type": "markdown",
      "source": [
        "### Import Libraries"
      ],
      "metadata": {
        "id": "Y3lxredqlCYt"
      }
    },
    {
      "cell_type": "code",
      "source": [
        "# Importing all usefull Libraries\n",
        "\n",
        "import pandas as pd\n",
        "import numpy as np\n",
        "import matplotlib.pyplot as plt\n",
        "import seaborn as sns"
      ],
      "metadata": {
        "id": "M8Vqi-pPk-HR"
      },
      "execution_count": null,
      "outputs": []
    },
    {
      "cell_type": "markdown",
      "source": [
        "### Dataset Loading"
      ],
      "metadata": {
        "id": "3RnN4peoiCZX"
      }
    },
    {
      "cell_type": "code",
      "source": [
        "#Mpunting the google drive for load the data sheet.\n",
        "from google.colab import drive\n",
        "drive.mount('/content/drive')"
      ],
      "metadata": {
        "id": "4CkvbW_SlZ_R"
      },
      "execution_count": null,
      "outputs": []
    },
    {
      "cell_type": "code",
      "source": [
        "data=pd.read_csv('/content/drive/MyDrive/EMD Project Airbnb NYC 2019 by Dheeraj Raghav/Airbnb NYC 2019.csv')"
      ],
      "metadata": {
        "id": "Lwko35fhwQ-K"
      },
      "execution_count": null,
      "outputs": []
    },
    {
      "cell_type": "markdown",
      "source": [
        "### Dataset First View"
      ],
      "metadata": {
        "id": "x71ZqKXriCWQ"
      }
    },
    {
      "cell_type": "code",
      "source": [
        "# Dataset First Look\n",
        "data"
      ],
      "metadata": {
        "id": "LWNFOSvLl09H"
      },
      "execution_count": null,
      "outputs": []
    },
    {
      "cell_type": "markdown",
      "source": [
        "### Dataset Rows & Columns count"
      ],
      "metadata": {
        "id": "7hBIi_osiCS2"
      }
    },
    {
      "cell_type": "code",
      "source": [
        "# Dataset Rows & Columns count\n",
        "#  In this data sheet there are 48896 rows and 16 columns."
      ],
      "metadata": {
        "id": "Kllu7SJgmLij"
      },
      "execution_count": null,
      "outputs": []
    },
    {
      "cell_type": "markdown",
      "source": [
        "### Dataset Information"
      ],
      "metadata": {
        "id": "JlHwYmJAmNHm"
      }
    },
    {
      "cell_type": "code",
      "source": [
        "# # Dataset Info\n",
        "data.info()\n"
      ],
      "metadata": {
        "id": "e9hRXRi6meOf"
      },
      "execution_count": null,
      "outputs": []
    },
    {
      "cell_type": "code",
      "source": [
        "data.describe()"
      ],
      "metadata": {
        "id": "Wcks_v5e4vKC"
      },
      "execution_count": null,
      "outputs": []
    },
    {
      "cell_type": "markdown",
      "source": [
        "#CLEANING OF DATA SHEET ✈\n",
        "\n"
      ],
      "metadata": {
        "id": "fDbYe9yLjKzj"
      }
    },
    {
      "cell_type": "markdown",
      "source": [
        "## Duplicate Values"
      ],
      "metadata": {
        "id": "35m5QtbWiB9F"
      }
    },
    {
      "cell_type": "code",
      "source": [
        "# Dataset Duplicate Value Count\n",
        "data.duplicated().value_counts()\n",
        "\n",
        "#no duplicate value count"
      ],
      "metadata": {
        "id": "1sLdpKYkmox0"
      },
      "execution_count": null,
      "outputs": []
    },
    {
      "cell_type": "code",
      "source": [
        "# Checking subset duplicate\n",
        "data.duplicated(subset=['id']).value_counts()\n"
      ],
      "metadata": {
        "id": "NJ252RYiBi3Y"
      },
      "execution_count": null,
      "outputs": []
    },
    {
      "cell_type": "markdown",
      "source": [
        "We need to drop all duplicate rows if its there as it can creat problem in machine learning algorithm and other data science task.⚠️\n",
        "As no duplicate rows are present in data sheet we dont have to drop any duplicate rows."
      ],
      "metadata": {
        "id": "Nj4LQokR-7Bw"
      }
    },
    {
      "cell_type": "markdown",
      "source": [
        "## Missing Values/Null Values😶"
      ],
      "metadata": {
        "id": "PoPl-ycgm1ru"
      }
    },
    {
      "cell_type": "code",
      "source": [
        "#Null Values Count\n",
        "data.isnull().sum()"
      ],
      "metadata": {
        "id": "GgHWkxvamxVg"
      },
      "execution_count": null,
      "outputs": []
    },
    {
      "cell_type": "code",
      "source": [
        "# Visualizing the missing values\n",
        "data.notnull().sum()"
      ],
      "metadata": {
        "id": "3q5wnI3om9sJ"
      },
      "execution_count": null,
      "outputs": []
    },
    {
      "cell_type": "code",
      "source": [
        "#We can drop name , host_name and last_review as its seems many null values and not so important.\n",
        "data1=data.drop(columns=['last_review'],axis=1)\n",
        "data1"
      ],
      "metadata": {
        "id": "P1O--qfOQqxZ"
      },
      "execution_count": null,
      "outputs": []
    },
    {
      "cell_type": "code",
      "source": [
        "#replacing NaN values reviews_per_month with '0'.\n",
        "\n",
        "data1.fillna({'reviews_per_month':0},inplace=True)\n"
      ],
      "metadata": {
        "id": "TrAx-Z_OaCDl"
      },
      "execution_count": null,
      "outputs": []
    },
    {
      "cell_type": "code",
      "source": [
        "#we can drop all rows with 0 availability_365 or we can sent mail to the client for information.\n",
        "\n",
        "data1.drop(data1[data1['availability_365']==0].index,inplace=True)"
      ],
      "metadata": {
        "id": "uXUPHMQ_gU5l"
      },
      "execution_count": null,
      "outputs": []
    },
    {
      "cell_type": "code",
      "source": [
        "#ectract all rows whose price is greater than 0.\n",
        "data1= data1.loc[data1['price']>0]\n",
        "data1.describe()"
      ],
      "metadata": {
        "id": "_B9_CMX2iIAy"
      },
      "execution_count": null,
      "outputs": []
    },
    {
      "cell_type": "markdown",
      "source": [
        "#              CLEAN DATA SET\n",
        "\n",
        "![download.jpg](data:image/jpeg;base64,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)"
      ],
      "metadata": {
        "id": "5kOvmh-doK6J"
      }
    },
    {
      "cell_type": "code",
      "source": [
        "data1.reset_index().head()"
      ],
      "metadata": {
        "id": "kPSi4W91kcZj"
      },
      "execution_count": null,
      "outputs": []
    },
    {
      "cell_type": "code",
      "source": [],
      "metadata": {
        "id": "YXRjvmrw9uMo"
      },
      "execution_count": null,
      "outputs": []
    },
    {
      "cell_type": "markdown",
      "source": [
        "### What did you know about your dataset?"
      ],
      "metadata": {
        "id": "H0kj-8xxnORC"
      }
    },
    {
      "cell_type": "markdown",
      "source": [
        "Dataset gives us the complete overview of bussiness model of Airbnb an online market an online marketplace that connects people who want to rent out their property with people who are looking for accommodations in specific locales. Its an Amarican company.\n",
        "\n",
        "This data sheet porived us the complete information of host who have listed there properties on Airbnb.\n",
        "It provied us the host name with there ID's ,there property location ,logititude and latitude,property neighbourhood,property information like type of room,its Prices,minimum nights,rooms availability in 365 days,property number of reviews per month.\n",
        "\n",
        "By studing dataset\n",
        "1. We found out that there are 48895 rows and 16 coloums total.\n",
        "2. There are 16 null values in property ['name']coloum,21 null values in ['host_name'] column,10052 null values in  ['last_review'] column,10052 null value in ['reviews_per_month'].\n",
        "3. There is no missing values in data set.\n",
        "4. There is no duplicate rows values and coloums\n",
        "\n",
        "![download.png](data:image/png;base64,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)\n",
        "\n",
        "After cleaning of data sheet we came up with 31354 rows and 13 columns.\n",
        "\n",
        "1. We have droped the 'name,'host_name',and 'last_review' columns as they have many NuN values  with the help of data.drop(columns=[''],axis=1).\n",
        "\n",
        "2. We have replace all NuN values in of 'reviews_per_month' with 0.with data1.fillna{} function.\n",
        "\n",
        "3. We have drop all the rows of properties with 0 availability_365 and extract all rows whose price is greater than 0."
      ],
      "metadata": {
        "id": "gfoNAAC-nUe_"
      }
    },
    {
      "cell_type": "markdown",
      "source": [
        "## ***2. Understanding Your Variables***"
      ],
      "metadata": {
        "id": "nA9Y7ga8ng1Z"
      }
    },
    {
      "cell_type": "code",
      "source": [
        "# Dataset Columns\n",
        "data1.columns"
      ],
      "metadata": {
        "id": "j7xfkqrt5Ag5"
      },
      "execution_count": null,
      "outputs": []
    },
    {
      "cell_type": "code",
      "source": [
        "# Dataset Describe\n",
        "data1.describe()"
      ],
      "metadata": {
        "id": "DnOaZdaE5Q5t"
      },
      "execution_count": null,
      "outputs": []
    },
    {
      "cell_type": "markdown",
      "source": [
        "### Variables Description"
      ],
      "metadata": {
        "id": "PBTbrJXOngz2"
      }
    },
    {
      "cell_type": "markdown",
      "source": [
        "Answer Here\n",
        "\n",
        "1. id'= Range from 2539-36487245 (Continuous variable).\n",
        "2. host_id'= Range from 2787-68119814 (Continuous variable).\n",
        "3. neighbourhood_group= example-Manhattan,Brokley categorical data.\n",
        "4. neighbourhood= categorical data.\n",
        "5. longitude = Continuous numarical variable.\n",
        "6. Room_type = Categorical data.\n",
        "7. price= Continuous Variable.with minimun 10$ and maximum 1000$\n",
        "8. minimum_nights= Categorical numaric data.With minimum nights 1 - 1250.\n",
        "9. number_of_reviews= Continous numarical data.\n",
        "10. reviews_per_month= Contiouns numarical data.\n",
        "11. calculated_host_listings_count-contiouns numarical data.\n",
        "12. availability_365- Categorical.\n",
        "      "
      ],
      "metadata": {
        "id": "aJV4KIxSnxay"
      }
    },
    {
      "cell_type": "markdown",
      "source": [
        "### Check Unique Values for each variable."
      ],
      "metadata": {
        "id": "u3PMJOP6ngxN"
      }
    },
    {
      "cell_type": "code",
      "source": [
        "data1.columns"
      ],
      "metadata": {
        "id": "ET6EBXHwA_oI"
      },
      "execution_count": null,
      "outputs": []
    },
    {
      "cell_type": "code",
      "source": [
        "# Check Unique Values for each variable.\n",
        "unique_values=data1['id'].unique()\n",
        "print(f'id Unique values = {unique_values}')\n",
        "\n",
        "unique_values=data1['host_id'].unique()\n",
        "print(f'host_id Unique values = {unique_values}')\n",
        "\n",
        "unique_values=data1['neighbourhood_group'].unique()\n",
        "print(f'neighbourhood_group Unique values = {unique_values}')\n",
        "\n",
        "unique_values=data1['room_type'].unique()\n",
        "print(f'room type Unique values = {unique_values}')\n",
        "\n",
        "unique_values=data1['calculated_host_listings_count'].unique()\n",
        "print(f'calculated_host_listings_count Unique values = {unique_values}')\n"
      ],
      "metadata": {
        "id": "zms12Yq5n-jE"
      },
      "execution_count": null,
      "outputs": []
    },
    {
      "cell_type": "markdown",
      "source": [
        "## 3. ***Data Wrangling***"
      ],
      "metadata": {
        "id": "dauF4eBmngu3"
      }
    },
    {
      "cell_type": "markdown",
      "source": [
        "### Data Wrangling Code"
      ],
      "metadata": {
        "id": "bKJF3rekwFvQ"
      }
    },
    {
      "cell_type": "code",
      "source": [
        "data1.columns"
      ],
      "metadata": {
        "id": "bCcGf-ogM3vw"
      },
      "execution_count": null,
      "outputs": []
    },
    {
      "cell_type": "code",
      "source": [
        "# Write your code to make your dataset analysis ready.\n",
        "\n",
        "#TOP MOST EXPANSIVE PROPERTY\n",
        "most_expansive_properties=data1.sort_values('price',ascending= False)[['id','name','host_name','price','minimum_nights','neighbourhood_group','neighbourhood']].reset_index()\n",
        "most_expansive_properties.head(5)"
      ],
      "metadata": {
        "id": "wk-9a2fpoLcV"
      },
      "execution_count": null,
      "outputs": []
    },
    {
      "cell_type": "code",
      "source": [
        "##TOP MOST CHEAPEST PROPERTIES\n",
        "most_chepest_properties=data1.sort_values('price',ascending= True)[['id','name','host_name','price','minimum_nights','neighbourhood_group','neighbourhood']].reset_index()\n",
        "most_chepest_properties.head(5)"
      ],
      "metadata": {
        "id": "ZmkMPXx263g8"
      },
      "execution_count": null,
      "outputs": []
    },
    {
      "cell_type": "code",
      "source": [
        "#All properties with private room type.\n",
        "\n",
        "private_room_properties=data1[data1['room_type']=='Private room'].reset_index()\n",
        "private_room_properties"
      ],
      "metadata": {
        "id": "QHcueNp-8NJG"
      },
      "execution_count": null,
      "outputs": []
    },
    {
      "cell_type": "code",
      "source": [
        "#Properties with 'Entire home/apt'.\n",
        "properties_with_entire_home=data1[data1['room_type']=='Entire home/apt'].reset_index()\n",
        "properties_with_entire_home"
      ],
      "metadata": {
        "id": "ZV2EngK1-PuH"
      },
      "execution_count": null,
      "outputs": []
    },
    {
      "cell_type": "code",
      "source": [
        "#Properties with 'Shared room'\n",
        "property_with_sharedroom= data1[data1['room_type']=='Shared room'].value_counts().reset_index()\n",
        "property_with_sharedroom"
      ],
      "metadata": {
        "id": "k16w0pFz-iNm"
      },
      "execution_count": null,
      "outputs": []
    },
    {
      "cell_type": "code",
      "source": [
        "#averange price of all properties listed.\n",
        "\n",
        "avg_price=data1['price'].mean().round()\n",
        "print(f'Avrage price of property listed = {avg_price}')"
      ],
      "metadata": {
        "id": "t8dy2xN8VHGR"
      },
      "execution_count": null,
      "outputs": []
    },
    {
      "cell_type": "code",
      "source": [
        "#Max number of reviews\n",
        "data1['number_of_reviews'].max()"
      ],
      "metadata": {
        "id": "FCr6D-BxXiaK"
      },
      "execution_count": null,
      "outputs": []
    },
    {
      "cell_type": "code",
      "source": [
        "#Highest numbers of reviews to which property\n",
        "\n",
        "data1.sort_values('number_of_reviews',ascending=False).head(1)[['id','host_id','neighbourhood_group',\t'neighbourhood','number_of_reviews','reviews_per_month']]"
      ],
      "metadata": {
        "id": "7MQcBR-PWnWA"
      },
      "execution_count": null,
      "outputs": []
    },
    {
      "cell_type": "code",
      "source": [
        "#lowest numbers of reviews\n",
        "\n",
        "data1[data1['number_of_reviews']==1].sort_values('number_of_reviews',ascending=True).head(5)[['id','host_id','neighbourhood_group',\t'neighbourhood','number_of_reviews','reviews_per_month']]"
      ],
      "metadata": {
        "id": "XvPQg7aFZkaf"
      },
      "execution_count": null,
      "outputs": []
    },
    {
      "cell_type": "code",
      "source": [
        "#Highest numbers of reviews per month\n",
        "\n",
        "data1.sort_values('reviews_per_month',ascending=False).head(1)[['id','name','host_name','host_id','neighbourhood_group',\t'neighbourhood','number_of_reviews','reviews_per_month','price']]"
      ],
      "metadata": {
        "id": "ZfXXicNpZB53"
      },
      "execution_count": null,
      "outputs": []
    },
    {
      "cell_type": "code",
      "source": [
        "\n",
        "# Filter the dataset for properties with a price of 132 $ or more\n",
        "data1_filter1 = data1[data1['price']>=132]\n",
        "data1_filter1\n",
        "# # Filter the dataset for movies with a popularity of 39.0 or higher\n",
        "data1_filter2 = data1[data1['number_of_reviews']>=39]\n",
        "data1_filter2\n",
        "\n",
        "data1_filter_final = pd.concat([data1_filter1, data1_filter2],axis=0)\n",
        "data1_filter_final\n",
        "final = data1_filter_final.sort_values('price', ascending=False)[['price','number_of_reviews','id']].reset_index()\n",
        "final.head(5)"
      ],
      "metadata": {
        "id": "pa1j3l8cePiT"
      },
      "execution_count": null,
      "outputs": []
    },
    {
      "cell_type": "code",
      "source": [
        "data1.columns"
      ],
      "metadata": {
        "id": "VXKMYd2eZ3u6"
      },
      "execution_count": null,
      "outputs": []
    },
    {
      "cell_type": "code",
      "source": [
        "#Most expansive property in which naighbourhood.\n",
        "data1.groupby('neighbourhood_group')['price'].mean().reset_index().sort_values('price',ascending=False)"
      ],
      "metadata": {
        "id": "Be4yV1jEZxNK"
      },
      "execution_count": null,
      "outputs": []
    },
    {
      "cell_type": "code",
      "source": [
        "#Maximum number of properties in which neighbourhood_group.\n",
        "data1.groupby('neighbourhood_group',)['name'].count().reset_index().sort_values('name',ascending=False)"
      ],
      "metadata": {
        "id": "am6BwIyD6y9M"
      },
      "execution_count": null,
      "outputs": []
    },
    {
      "cell_type": "code",
      "source": [
        "#Host with hight number of properties listed.\n",
        "\n",
        "data1.groupby('host_name')['id'].count().reset_index().sort_values('id',ascending=False).head(5)"
      ],
      "metadata": {
        "id": "H8E74NZb-Phl"
      },
      "execution_count": null,
      "outputs": []
    },
    {
      "cell_type": "code",
      "source": [
        "#Which room type are maximum listed\n",
        "data.groupby('room_type')['id'].count().reset_index()"
      ],
      "metadata": {
        "id": "6O9jDg27AQrw"
      },
      "execution_count": null,
      "outputs": []
    },
    {
      "cell_type": "code",
      "source": [],
      "metadata": {
        "id": "J0F2NG2kEoAu"
      },
      "execution_count": null,
      "outputs": []
    },
    {
      "cell_type": "markdown",
      "source": [
        "### What all manipulations have you done and insights you found?"
      ],
      "metadata": {
        "id": "MSa1f5Uengrz"
      }
    },
    {
      "cell_type": "markdown",
      "source": [
        "*Answer* Here.\n",
        "\n"
      ],
      "metadata": {
        "id": "LbyXE7I1olp8"
      }
    },
    {
      "cell_type": "markdown",
      "source": [
        "## ***4. Data Vizualization, Storytelling & Experimenting with charts : Understand the relationships between variables***"
      ],
      "metadata": {
        "id": "GF8Ens_Soomf"
      }
    },
    {
      "cell_type": "markdown",
      "source": [
        "#### Chart - 1"
      ],
      "metadata": {
        "id": "0wOQAZs5pc--"
      }
    },
    {
      "cell_type": "code",
      "source": [
        "data1.info()"
      ],
      "metadata": {
        "id": "0NtV_Y6pzvdT"
      },
      "execution_count": null,
      "outputs": []
    },
    {
      "cell_type": "markdown",
      "source": [],
      "metadata": {
        "id": "s0Fgeg06A-nZ"
      }
    },
    {
      "cell_type": "code",
      "source": [
        "# # Chart - 1 visualization code\n",
        "#Average prices of Airbnb listed properties VS Neighbourhood group (Location)\n",
        "neighbourhood_grp_avg_price=data1.groupby('neighbourhood_group')['price'].mean().reset_index().sort_values('price',ascending=False)\n",
        "neighbourhood_grp_avg_price"
      ],
      "metadata": {
        "id": "7v_ESjsspbW7"
      },
      "execution_count": null,
      "outputs": []
    },
    {
      "cell_type": "code",
      "source": [
        "#Bar chart for Average prices of Airbnb listed properties VS Neighbourhood group (Location)\n",
        "av=sns.barplot(data=neighbourhood_grp_avg_price,x='neighbourhood_group',y='price')\n",
        "av.set_ylabel('Average price')\n",
        "av.set_xlabel('Neighbourhood_group')\n",
        "av.set_title('Location wise Avg. Price of properties',size=11)"
      ],
      "metadata": {
        "id": "nKqr2AmR0184"
      },
      "execution_count": null,
      "outputs": []
    },
    {
      "cell_type": "code",
      "source": [
        "\n",
        "body_style_means = data1.groupby('neighbourhood_group')['id'].count().reset_index()\n",
        "body_style_means\n",
        "\n",
        "\n",
        "# Create bar plots of the average dimensions for each body style and make\n",
        "# body_style_means.plot(kind='bar', rot=0)"
      ],
      "metadata": {
        "id": "ztTntcfONptf"
      },
      "execution_count": null,
      "outputs": []
    },
    {
      "cell_type": "code",
      "source": [
        "\n",
        "body_style_means = data1.groupby('neighbourhood_group').sum().reset_index()\n",
        "body_style_means\n",
        "\n",
        "\n",
        "# Create bar plots of the average dimensions for each body style and make\n",
        "# body_style_means.plot(kind='bar', rot=0)"
      ],
      "metadata": {
        "id": "TNsIuRd0QOet"
      },
      "execution_count": null,
      "outputs": []
    },
    {
      "cell_type": "code",
      "source": [
        "id"
      ],
      "metadata": {
        "id": "rIda6-qC8z9K"
      },
      "execution_count": null,
      "outputs": []
    },
    {
      "cell_type": "markdown",
      "source": [
        "##### 1. Why did you pick the specific chart?"
      ],
      "metadata": {
        "id": "K5QZ13OEpz2H"
      }
    },
    {
      "cell_type": "markdown",
      "source": [
        "Answer Here."
      ],
      "metadata": {
        "id": "XESiWehPqBRc"
      }
    },
    {
      "cell_type": "markdown",
      "source": [
        "##### 2. What is/are the insight(s) found from the chart?"
      ],
      "metadata": {
        "id": "lQ7QKXXCp7Bj"
      }
    },
    {
      "cell_type": "markdown",
      "source": [
        "Answer Here"
      ],
      "metadata": {
        "id": "C_j1G7yiqdRP"
      }
    },
    {
      "cell_type": "markdown",
      "source": [
        "##### 3. Will the gained insights help creating a positive business impact?\n",
        "Are there any insights that lead to negative growth? Justify with specific reason."
      ],
      "metadata": {
        "id": "448CDAPjqfQr"
      }
    },
    {
      "cell_type": "markdown",
      "source": [
        "Answer Here"
      ],
      "metadata": {
        "id": "3cspy4FjqxJW"
      }
    },
    {
      "cell_type": "markdown",
      "source": [
        "#### Chart - 2"
      ],
      "metadata": {
        "id": "KSlN3yHqYklG"
      }
    },
    {
      "cell_type": "code",
      "source": [
        "# Chart - 2 visualization code\n",
        "\n",
        "#Analise Room type at Airbnb VS Average Prices\n",
        "room_type_price=data1.groupby('room_type')['price'].mean().reset_index()\n",
        "room_type_price"
      ],
      "metadata": {
        "id": "R4YgtaqtYklH"
      },
      "execution_count": null,
      "outputs": []
    },
    {
      "cell_type": "code",
      "source": [
        "sns.barplot(data=room_type_price,x='room_type',y='price')"
      ],
      "metadata": {
        "id": "Ru29HH5MHX-v"
      },
      "execution_count": null,
      "outputs": []
    },
    {
      "cell_type": "markdown",
      "source": [
        "##### 1. Why did you pick the specific chart?"
      ],
      "metadata": {
        "id": "t6dVpIINYklI"
      }
    },
    {
      "cell_type": "markdown",
      "source": [
        "Answer Here."
      ],
      "metadata": {
        "id": "5aaW0BYyYklI"
      }
    },
    {
      "cell_type": "markdown",
      "source": [
        "##### 2. What is/are the insight(s) found from the chart?"
      ],
      "metadata": {
        "id": "ijmpgYnKYklI"
      }
    },
    {
      "cell_type": "markdown",
      "source": [
        "Answer Here"
      ],
      "metadata": {
        "id": "PSx9atu2YklI"
      }
    },
    {
      "cell_type": "markdown",
      "source": [
        "##### 3. Will the gained insights help creating a positive business impact?\n",
        "Are there any insights that lead to negative growth? Justify with specific reason."
      ],
      "metadata": {
        "id": "-JiQyfWJYklI"
      }
    },
    {
      "cell_type": "markdown",
      "source": [
        "Answer Here"
      ],
      "metadata": {
        "id": "BcBbebzrYklV"
      }
    },
    {
      "cell_type": "markdown",
      "source": [
        "#### Chart - 3"
      ],
      "metadata": {
        "id": "EM7whBJCYoAo"
      }
    },
    {
      "cell_type": "code",
      "source": [
        "# Chart - 3 visualization code\n",
        "\n",
        "#Analise which neighbourhood_group have maximum number of Airbnb\n",
        "\n",
        "\n",
        "Max_airbnb_in_neighbourhood=data1['neighbourhood_group'].value_counts().reset_index()\n",
        "Max_airbnb_in_neighbourhood.rename(columns={'neighbourhood_group':'Total_count','index':'neighbourhood_group'},inplace=True)\n",
        "Max_airbnb_in_neighbourhood"
      ],
      "metadata": {
        "id": "t6GMdE67YoAp"
      },
      "execution_count": null,
      "outputs": []
    },
    {
      "cell_type": "code",
      "source": [
        "#Analising  neighbourhood_group have maximum number of Airbnb in Pie chart.\n",
        "\n",
        "data1['neighbourhood_group'].value_counts().plot.pie(explode=[0.05,0.05,0.05,0.05,0.05],autopct='%1.0f%%',figsize=(10,5))\n",
        "plt.title(\"Pie chart of Species\")\n"
      ],
      "metadata": {
        "id": "wAk1ijNGTS3h"
      },
      "execution_count": null,
      "outputs": []
    },
    {
      "cell_type": "code",
      "source": [
        "#Analising neighbourhood_group have maximum number of Airbnb in bar chart\n",
        "airbnb_in_neighbourhood=sns.barplot(data=Max_airbnb_in_neighbourhood,x='neighbourhood_group',y='Total_count')\n",
        "airbnb_in_neighbourhood.set_ylabel('Numbers of Airbnb')"
      ],
      "metadata": {
        "id": "tTFU9KyOY5Uc"
      },
      "execution_count": null,
      "outputs": []
    },
    {
      "cell_type": "markdown",
      "source": [
        "##### 1. Why did you pick the specific chart?"
      ],
      "metadata": {
        "id": "fge-S5ZAYoAp"
      }
    },
    {
      "cell_type": "markdown",
      "source": [
        "Answer Here."
      ],
      "metadata": {
        "id": "5dBItgRVYoAp"
      }
    },
    {
      "cell_type": "markdown",
      "source": [
        "##### 2. What is/are the insight(s) found from the chart?"
      ],
      "metadata": {
        "id": "85gYPyotYoAp"
      }
    },
    {
      "cell_type": "markdown",
      "source": [
        "Answer Here"
      ],
      "metadata": {
        "id": "4jstXR6OYoAp"
      }
    },
    {
      "cell_type": "markdown",
      "source": [
        "##### 3. Will the gained insights help creating a positive business impact?\n",
        "Are there any insights that lead to negative growth? Justify with specific reason."
      ],
      "metadata": {
        "id": "RoGjAbkUYoAp"
      }
    },
    {
      "cell_type": "markdown",
      "source": [
        "Answer Here"
      ],
      "metadata": {
        "id": "zfJ8IqMcYoAp"
      }
    },
    {
      "cell_type": "markdown",
      "source": [
        "#### Chart - 4"
      ],
      "metadata": {
        "id": "4Of9eVA-YrdM"
      }
    },
    {
      "cell_type": "code",
      "source": [
        "data1.columns"
      ],
      "metadata": {
        "id": "GtvnOdqcjWL7"
      },
      "execution_count": null,
      "outputs": []
    },
    {
      "cell_type": "code",
      "source": [
        "# Chart - 4 visualization code\n",
        "ab=data1.groupby(['neighbourhood_group'],as_index=False)['room_type'].value_counts()\n",
        "sns.barplot(data=ab,x='neighbourhood_group',y='count',hue='room_type')"
      ],
      "metadata": {
        "id": "irlUoxc8YrdO"
      },
      "execution_count": null,
      "outputs": []
    },
    {
      "cell_type": "markdown",
      "source": [
        "##### 1. Why did you pick the specific chart?"
      ],
      "metadata": {
        "id": "iky9q4vBYrdO"
      }
    },
    {
      "cell_type": "markdown",
      "source": [
        "Answer Here."
      ],
      "metadata": {
        "id": "aJRCwT6DYrdO"
      }
    },
    {
      "cell_type": "markdown",
      "source": [
        "##### 2. What is/are the insight(s) found from the chart?"
      ],
      "metadata": {
        "id": "F6T5p64dYrdO"
      }
    },
    {
      "cell_type": "markdown",
      "source": [
        "Answer Here"
      ],
      "metadata": {
        "id": "Xx8WAJvtYrdO"
      }
    },
    {
      "cell_type": "markdown",
      "source": [
        "##### 3. Will the gained insights help creating a positive business impact?\n",
        "Are there any insights that lead to negative growth? Justify with specific reason."
      ],
      "metadata": {
        "id": "y-Ehk30pYrdP"
      }
    },
    {
      "cell_type": "markdown",
      "source": [
        "Answer Here"
      ],
      "metadata": {
        "id": "jLNxxz7MYrdP"
      }
    },
    {
      "cell_type": "markdown",
      "source": [
        "#### Chart - 5"
      ],
      "metadata": {
        "id": "bamQiAODYuh1"
      }
    },
    {
      "cell_type": "code",
      "source": [
        "# Chart - 5 visualization code\n",
        "\n",
        "sns.scatterplot(data=data1,x='latitude', y='longitude',hue='neighbourhood_group')"
      ],
      "metadata": {
        "id": "TIJwrbroYuh3"
      },
      "execution_count": null,
      "outputs": []
    },
    {
      "cell_type": "markdown",
      "source": [
        "##### 1. Why did you pick the specific chart?"
      ],
      "metadata": {
        "id": "QHF8YVU7Yuh3"
      }
    },
    {
      "cell_type": "markdown",
      "source": [
        "Answer Here."
      ],
      "metadata": {
        "id": "dcxuIMRPYuh3"
      }
    },
    {
      "cell_type": "markdown",
      "source": [
        "##### 2. What is/are the insight(s) found from the chart?"
      ],
      "metadata": {
        "id": "GwzvFGzlYuh3"
      }
    },
    {
      "cell_type": "markdown",
      "source": [
        "Answer Here"
      ],
      "metadata": {
        "id": "uyqkiB8YYuh3"
      }
    },
    {
      "cell_type": "markdown",
      "source": [
        "##### 3. Will the gained insights help creating a positive business impact?\n",
        "Are there any insights that lead to negative growth? Justify with specific reason."
      ],
      "metadata": {
        "id": "qYpmQ266Yuh3"
      }
    },
    {
      "cell_type": "markdown",
      "source": [
        "Answer Here"
      ],
      "metadata": {
        "id": "_WtzZ_hCYuh4"
      }
    },
    {
      "cell_type": "markdown",
      "source": [
        "#### Chart - 6"
      ],
      "metadata": {
        "id": "OH-pJp9IphqM"
      }
    },
    {
      "cell_type": "code",
      "source": [
        "# Chart - 6 visualization code\n",
        "sns.scatterplot(data=data1,x='latitude', y='longitude',hue='availability_365')"
      ],
      "metadata": {
        "id": "kuRf4wtuphqN"
      },
      "execution_count": null,
      "outputs": []
    },
    {
      "cell_type": "markdown",
      "source": [
        "##### 1. Why did you pick the specific chart?"
      ],
      "metadata": {
        "id": "bbFf2-_FphqN"
      }
    },
    {
      "cell_type": "markdown",
      "source": [
        "Answer Here."
      ],
      "metadata": {
        "id": "loh7H2nzphqN"
      }
    },
    {
      "cell_type": "markdown",
      "source": [
        "##### 2. What is/are the insight(s) found from the chart?"
      ],
      "metadata": {
        "id": "_ouA3fa0phqN"
      }
    },
    {
      "cell_type": "markdown",
      "source": [
        "Answer Here"
      ],
      "metadata": {
        "id": "VECbqPI7phqN"
      }
    },
    {
      "cell_type": "markdown",
      "source": [
        "##### 3. Will the gained insights help creating a positive business impact?\n",
        "Are there any insights that lead to negative growth? Justify with specific reason."
      ],
      "metadata": {
        "id": "Seke61FWphqN"
      }
    },
    {
      "cell_type": "markdown",
      "source": [
        "Answer Here"
      ],
      "metadata": {
        "id": "DW4_bGpfphqN"
      }
    },
    {
      "cell_type": "markdown",
      "source": [
        "#### Chart - 7"
      ],
      "metadata": {
        "id": "PIIx-8_IphqN"
      }
    },
    {
      "cell_type": "code",
      "source": [
        "# Chart - 7 visualization code\n",
        "\n",
        "# data1.groupby('neighbourhood_group').plot(kind='box',values='price')\n",
        "sns.scatterplot(data=data1,x='latitude', y='longitude',hue='minimum_nights',palette='rocket_r')\n"
      ],
      "metadata": {
        "id": "lqAIGUfyphqO"
      },
      "execution_count": null,
      "outputs": []
    },
    {
      "cell_type": "markdown",
      "source": [
        "##### 1. Why did you pick the specific chart?"
      ],
      "metadata": {
        "id": "t27r6nlMphqO"
      }
    },
    {
      "cell_type": "markdown",
      "source": [
        "Answer Here."
      ],
      "metadata": {
        "id": "iv6ro40sphqO"
      }
    },
    {
      "cell_type": "markdown",
      "source": [
        "##### 2. What is/are the insight(s) found from the chart?"
      ],
      "metadata": {
        "id": "r2jJGEOYphqO"
      }
    },
    {
      "cell_type": "markdown",
      "source": [
        "Answer Here"
      ],
      "metadata": {
        "id": "Po6ZPi4hphqO"
      }
    },
    {
      "cell_type": "markdown",
      "source": [
        "##### 3. Will the gained insights help creating a positive business impact?\n",
        "Are there any insights that lead to negative growth? Justify with specific reason."
      ],
      "metadata": {
        "id": "b0JNsNcRphqO"
      }
    },
    {
      "cell_type": "markdown",
      "source": [
        "Answer Here"
      ],
      "metadata": {
        "id": "xvSq8iUTphqO"
      }
    },
    {
      "cell_type": "markdown",
      "source": [
        "#### Chart - 8"
      ],
      "metadata": {
        "id": "BZR9WyysphqO"
      }
    },
    {
      "cell_type": "code",
      "source": [
        "# Chart - 8 visualization code\n",
        "\n",
        "data[['price']].describe()"
      ],
      "metadata": {
        "id": "TdPTWpAVphqO"
      },
      "execution_count": null,
      "outputs": []
    },
    {
      "cell_type": "code",
      "source": [
        "def price_catagory(price):\n",
        "  if price<=80:\n",
        "    return 'cheep'\n",
        "  elif price>=80 and price<=500:\n",
        "    return 'affordable'\n",
        "  else:\n",
        "    return 'Expensive'"
      ],
      "metadata": {
        "id": "UTboZ-5Ktwuw"
      },
      "execution_count": null,
      "outputs": []
    },
    {
      "cell_type": "code",
      "source": [
        "plt.figure(figsize=(10,5))\n",
        "count_price = sns.countplot(x=data['price'].apply(price_catagory))\n",
        "count_price.set_title('Count Plot')\n",
        "count_price.set_xlabel('Catogories of rooms')\n",
        "count_price.set_ylabel(\"Count\")\n",
        "plt.show()"
      ],
      "metadata": {
        "id": "RDE5YAXcuCCh"
      },
      "execution_count": null,
      "outputs": []
    },
    {
      "cell_type": "markdown",
      "source": [
        "##### 1. Why did you pick the specific chart?"
      ],
      "metadata": {
        "id": "jj7wYXLtphqO"
      }
    },
    {
      "cell_type": "markdown",
      "source": [
        "Answer Here."
      ],
      "metadata": {
        "id": "Ob8u6rCTphqO"
      }
    },
    {
      "cell_type": "markdown",
      "source": [
        "##### 2. What is/are the insight(s) found from the chart?"
      ],
      "metadata": {
        "id": "eZrbJ2SmphqO"
      }
    },
    {
      "cell_type": "markdown",
      "source": [
        "Answer Here"
      ],
      "metadata": {
        "id": "mZtgC_hjphqO"
      }
    },
    {
      "cell_type": "markdown",
      "source": [
        "##### 3. Will the gained insights help creating a positive business impact?\n",
        "Are there any insights that lead to negative growth? Justify with specific reason."
      ],
      "metadata": {
        "id": "rFu4xreNphqO"
      }
    },
    {
      "cell_type": "markdown",
      "source": [
        "Answer Here"
      ],
      "metadata": {
        "id": "ey_0qi68phqO"
      }
    },
    {
      "cell_type": "markdown",
      "source": [
        "#### Chart - 9"
      ],
      "metadata": {
        "id": "YJ55k-q6phqO"
      }
    },
    {
      "cell_type": "code",
      "source": [
        "# Chart - 9 visualization code\n",
        "\n",
        "sns.countplot(x='room_type',data=data1)"
      ],
      "metadata": {
        "id": "B2aS4O1ophqO"
      },
      "execution_count": null,
      "outputs": []
    },
    {
      "cell_type": "markdown",
      "source": [
        "##### 1. Why did you pick the specific chart?"
      ],
      "metadata": {
        "id": "gCFgpxoyphqP"
      }
    },
    {
      "cell_type": "markdown",
      "source": [
        "Answer Here."
      ],
      "metadata": {
        "id": "TVxDimi2phqP"
      }
    },
    {
      "cell_type": "markdown",
      "source": [
        "##### 2. What is/are the insight(s) found from the chart?"
      ],
      "metadata": {
        "id": "OVtJsKN_phqQ"
      }
    },
    {
      "cell_type": "markdown",
      "source": [
        "Answer Here"
      ],
      "metadata": {
        "id": "ngGi97qjphqQ"
      }
    },
    {
      "cell_type": "markdown",
      "source": [
        "##### 3. Will the gained insights help creating a positive business impact?\n",
        "Are there any insights that lead to negative growth? Justify with specific reason."
      ],
      "metadata": {
        "id": "lssrdh5qphqQ"
      }
    },
    {
      "cell_type": "markdown",
      "source": [
        "Answer Here"
      ],
      "metadata": {
        "id": "tBpY5ekJphqQ"
      }
    },
    {
      "cell_type": "markdown",
      "source": [
        "#### Chart - 10"
      ],
      "metadata": {
        "id": "U2RJ9gkRphqQ"
      }
    },
    {
      "cell_type": "code",
      "source": [
        "# Chart - 10 visualization code\n",
        "ax = sns.scatterplot(data=data1,x='availability_365',y='price')\n",
        "plt.title(\"Scatterplot_availability_365\")"
      ],
      "metadata": {
        "id": "GM7a4YP4phqQ"
      },
      "execution_count": null,
      "outputs": []
    },
    {
      "cell_type": "markdown",
      "source": [
        "##### 1. Why did you pick the specific chart?"
      ],
      "metadata": {
        "id": "1M8mcRywphqQ"
      }
    },
    {
      "cell_type": "markdown",
      "source": [
        "Answer Here."
      ],
      "metadata": {
        "id": "8agQvks0phqQ"
      }
    },
    {
      "cell_type": "markdown",
      "source": [
        "##### 2. What is/are the insight(s) found from the chart?"
      ],
      "metadata": {
        "id": "tgIPom80phqQ"
      }
    },
    {
      "cell_type": "markdown",
      "source": [
        "Answer Here"
      ],
      "metadata": {
        "id": "Qp13pnNzphqQ"
      }
    },
    {
      "cell_type": "markdown",
      "source": [
        "##### 3. Will the gained insights help creating a positive business impact?\n",
        "Are there any insights that lead to negative growth? Justify with specific reason."
      ],
      "metadata": {
        "id": "JMzcOPDDphqR"
      }
    },
    {
      "cell_type": "markdown",
      "source": [
        "Answer Here"
      ],
      "metadata": {
        "id": "R4Ka1PC2phqR"
      }
    },
    {
      "cell_type": "markdown",
      "source": [
        "#### Chart - 11"
      ],
      "metadata": {
        "id": "x-EpHcCOp1ci"
      }
    },
    {
      "cell_type": "code",
      "source": [
        "# Chart - 11 visualization code\n",
        "\n",
        "v1=data1.groupby('neighbourhood')['price'].median().head(10).reset_index()\n",
        "plt.figure(figsize=(15,5))\n",
        "sns.barplot(data=v1,x='neighbourhood',y='price')"
      ],
      "metadata": {
        "id": "mAQTIvtqp1cj"
      },
      "execution_count": null,
      "outputs": []
    },
    {
      "cell_type": "code",
      "source": [
        "data1.columns"
      ],
      "metadata": {
        "id": "EFR8we_wx0og"
      },
      "execution_count": null,
      "outputs": []
    },
    {
      "cell_type": "markdown",
      "source": [
        "##### 1. Why did you pick the specific chart?"
      ],
      "metadata": {
        "id": "X_VqEhTip1ck"
      }
    },
    {
      "cell_type": "markdown",
      "source": [
        "Answer Here."
      ],
      "metadata": {
        "id": "-vsMzt_np1ck"
      }
    },
    {
      "cell_type": "markdown",
      "source": [
        "##### 2. What is/are the insight(s) found from the chart?"
      ],
      "metadata": {
        "id": "8zGJKyg5p1ck"
      }
    },
    {
      "cell_type": "markdown",
      "source": [
        "Answer Here"
      ],
      "metadata": {
        "id": "ZYdMsrqVp1ck"
      }
    },
    {
      "cell_type": "markdown",
      "source": [
        "##### 3. Will the gained insights help creating a positive business impact?\n",
        "Are there any insights that lead to negative growth? Justify with specific reason."
      ],
      "metadata": {
        "id": "PVzmfK_Ep1ck"
      }
    },
    {
      "cell_type": "markdown",
      "source": [
        "Answer Here"
      ],
      "metadata": {
        "id": "druuKYZpp1ck"
      }
    },
    {
      "cell_type": "markdown",
      "source": [
        "#### Chart - 12"
      ],
      "metadata": {
        "id": "n3dbpmDWp1ck"
      }
    },
    {
      "cell_type": "code",
      "source": [
        "# Chart - 12 visualization code"
      ],
      "metadata": {
        "id": "bwevp1tKp1ck"
      },
      "execution_count": null,
      "outputs": []
    },
    {
      "cell_type": "markdown",
      "source": [
        "##### 1. Why did you pick the specific chart?"
      ],
      "metadata": {
        "id": "ylSl6qgtp1ck"
      }
    },
    {
      "cell_type": "markdown",
      "source": [
        "Answer Here."
      ],
      "metadata": {
        "id": "m2xqNkiQp1ck"
      }
    },
    {
      "cell_type": "markdown",
      "source": [
        "##### 2. What is/are the insight(s) found from the chart?"
      ],
      "metadata": {
        "id": "ZWILFDl5p1ck"
      }
    },
    {
      "cell_type": "markdown",
      "source": [
        "Answer Here"
      ],
      "metadata": {
        "id": "x-lUsV2mp1ck"
      }
    },
    {
      "cell_type": "markdown",
      "source": [
        "##### 3. Will the gained insights help creating a positive business impact?\n",
        "Are there any insights that lead to negative growth? Justify with specific reason."
      ],
      "metadata": {
        "id": "M7G43BXep1ck"
      }
    },
    {
      "cell_type": "markdown",
      "source": [
        "Answer Here"
      ],
      "metadata": {
        "id": "5wwDJXsLp1cl"
      }
    },
    {
      "cell_type": "markdown",
      "source": [
        "#### Chart - 13"
      ],
      "metadata": {
        "id": "Ag9LCva-p1cl"
      }
    },
    {
      "cell_type": "code",
      "source": [
        "# Chart - 13 visualization code"
      ],
      "metadata": {
        "id": "EUfxeq9-p1cl"
      },
      "execution_count": null,
      "outputs": []
    },
    {
      "cell_type": "markdown",
      "source": [
        "##### 1. Why did you pick the specific chart?"
      ],
      "metadata": {
        "id": "E6MkPsBcp1cl"
      }
    },
    {
      "cell_type": "markdown",
      "source": [
        "Answer Here."
      ],
      "metadata": {
        "id": "V22bRsFWp1cl"
      }
    },
    {
      "cell_type": "markdown",
      "source": [
        "##### 2. What is/are the insight(s) found from the chart?"
      ],
      "metadata": {
        "id": "2cELzS2fp1cl"
      }
    },
    {
      "cell_type": "markdown",
      "source": [
        "Answer Here"
      ],
      "metadata": {
        "id": "ozQPc2_Ip1cl"
      }
    },
    {
      "cell_type": "markdown",
      "source": [
        "##### 3. Will the gained insights help creating a positive business impact?\n",
        "Are there any insights that lead to negative growth? Justify with specific reason."
      ],
      "metadata": {
        "id": "3MPXvC8up1cl"
      }
    },
    {
      "cell_type": "markdown",
      "source": [
        "Answer Here"
      ],
      "metadata": {
        "id": "GL8l1tdLp1cl"
      }
    },
    {
      "cell_type": "markdown",
      "source": [
        "#### Chart - 14 - Correlation Heatmap"
      ],
      "metadata": {
        "id": "NC_X3p0fY2L0"
      }
    },
    {
      "cell_type": "code",
      "source": [
        "# Correlation Heatmap visualization code"
      ],
      "metadata": {
        "id": "xyC9zolEZNRQ"
      },
      "execution_count": null,
      "outputs": []
    },
    {
      "cell_type": "markdown",
      "source": [
        "##### 1. Why did you pick the specific chart?"
      ],
      "metadata": {
        "id": "UV0SzAkaZNRQ"
      }
    },
    {
      "cell_type": "markdown",
      "source": [
        "Answer Here."
      ],
      "metadata": {
        "id": "DVPuT8LYZNRQ"
      }
    },
    {
      "cell_type": "markdown",
      "source": [
        "##### 2. What is/are the insight(s) found from the chart?"
      ],
      "metadata": {
        "id": "YPEH6qLeZNRQ"
      }
    },
    {
      "cell_type": "markdown",
      "source": [
        "Answer Here"
      ],
      "metadata": {
        "id": "bfSqtnDqZNRR"
      }
    },
    {
      "cell_type": "markdown",
      "source": [
        "#### Chart - 15 - Pair Plot"
      ],
      "metadata": {
        "id": "q29F0dvdveiT"
      }
    },
    {
      "cell_type": "code",
      "source": [
        "# Pair Plot visualization code"
      ],
      "metadata": {
        "id": "o58-TEIhveiU"
      },
      "execution_count": null,
      "outputs": []
    },
    {
      "cell_type": "markdown",
      "source": [
        "##### 1. Why did you pick the specific chart?"
      ],
      "metadata": {
        "id": "EXh0U9oCveiU"
      }
    },
    {
      "cell_type": "markdown",
      "source": [
        "Answer Here."
      ],
      "metadata": {
        "id": "eMmPjTByveiU"
      }
    },
    {
      "cell_type": "markdown",
      "source": [
        "##### 2. What is/are the insight(s) found from the chart?"
      ],
      "metadata": {
        "id": "22aHeOlLveiV"
      }
    },
    {
      "cell_type": "markdown",
      "source": [
        "Answer Here"
      ],
      "metadata": {
        "id": "uPQ8RGwHveiV"
      }
    },
    {
      "cell_type": "markdown",
      "source": [
        "## **5. Solution to Business Objective**"
      ],
      "metadata": {
        "id": "JcMwzZxoAimU"
      }
    },
    {
      "cell_type": "markdown",
      "source": [
        "#### What do you suggest the client to achieve Business Objective ?\n",
        "Explain Briefly."
      ],
      "metadata": {
        "id": "8G2x9gOozGDZ"
      }
    },
    {
      "cell_type": "markdown",
      "source": [
        "Answer Here."
      ],
      "metadata": {
        "id": "pASKb0qOza21"
      }
    },
    {
      "cell_type": "markdown",
      "source": [
        "# **Conclusion**"
      ],
      "metadata": {
        "id": "gCX9965dhzqZ"
      }
    },
    {
      "cell_type": "markdown",
      "source": [
        "Write the conclusion here."
      ],
      "metadata": {
        "id": "Fjb1IsQkh3yE"
      }
    },
    {
      "cell_type": "markdown",
      "source": [
        "### ***Hurrah! You have successfully completed your EDA Capstone Project !!!***"
      ],
      "metadata": {
        "id": "gIfDvo9L0UH2"
      }
    }
  ]
}